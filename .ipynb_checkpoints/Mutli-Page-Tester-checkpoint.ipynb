{
 "cells": [
  {
   "cell_type": "code",
   "execution_count": 1,
   "id": "c8634aaa-2af6-459f-8b7b-26f02cee6071",
   "metadata": {},
   "outputs": [],
   "source": [
    "import streamlit as st\n",
    "import time\n",
    "from langchain_core.messages import HumanMessage, AIMessage\n",
    "from langchain_core.chat_history import BaseChatMessageHistory\n",
    "from langchain_google_genai import ChatGoogleGenerativeAI\n",
    "from langchain_community.chat_message_histories import ChatMessageHistory\n",
    "from langchain_core.prompts import ChatPromptTemplate, MessagesPlaceholder, FewShotChatMessagePromptTemplate\n",
    "from StickyAssistant import sticky_container\n",
    "from langchain.agents.agent_toolkits import create_retriever_tool\n",
    "from langchain_core.output_parsers import StrOutputParser\n",
    "from langchain_community.vectorstores import FAISS\n",
    "from langchain_community.embeddings import HuggingFaceInstructEmbeddings\n",
    "from dotenv import load_dotenv\n",
    "\n",
    "\n",
    "load_dotenv()\n",
    "llm = ChatGoogleGenerativeAI(model=\"gemini-1.5-flash-latest\",temperature = 0)\n"
   ]
  },
  {
   "cell_type": "code",
   "execution_count": 2,
   "id": "a00790bb-47d2-49c5-b80e-a04439788ffa",
   "metadata": {},
   "outputs": [],
   "source": [
    "# making a vector DB of all the different webpage names so only the relevant and existing db's are searched through:\n",
    "def database_classifier(user_input):\n",
    "    database_index = ['att_bundle', 'att_internet', 'cable_internet', 'direct_tv', 'dish_tv', 'dsl_internet', 'earthlink_internet', 'fiber_internet', 'five_g_internet'\n",
    "                      ,'fixed_wireless_internet', 'frontier_bundle', 'frontier_internet', 'general_bundle', 'general_internet', 'general_tv', 'hughesnet_internet', \n",
    "                      'ipbb_internet', 'optimum_bundle', 'optimum_internet', 'optimum_tv', 'satellite_internet', 'spectrum_bundle', 'spectrum_internet',\n",
    "                      'spectrum_tv', 'verizon_bundle', 'verizon_internet', 'viasat_internet', 'windstream_bundle', 'windstream_internet']\n",
    "    \n",
    "    \n",
    "    examples = [\n",
    "        {\"text\": \"Hi, please tell me about Optimum's internet deals\", \"output\": \"optimum_internet\"},\n",
    "        {\"text\": \"How many channels can I get with dish TV?\", \"output\": \"dish_tv\"},\n",
    "    ]\n",
    "        \n",
    "    example_prompt = ChatPromptTemplate.from_messages(\n",
    "        [\n",
    "            (\"human\", \"{text}\"),\n",
    "            (\"ai\", \"{output}\"),\n",
    "        ]\n",
    "    )\n",
    "    \n",
    "    few_shot_prompt = FewShotChatMessagePromptTemplate(\n",
    "        example_prompt=example_prompt,\n",
    "        examples=examples,\n",
    "    )\n",
    "    \n",
    "    system_template = \"\"\"You are an intent classifier for a cable TV and Internet Service Provider chatbot. Given a user query and the messaging history as context,\n",
    "        return the most relevant database name from the following database names, return ONLY the database name itself, no quotation marks.\n",
    "    \n",
    "        'att_bundle', 'att_internet', 'cable_internet', 'direct_tv', 'dish_tv', 'dsl_internet', 'earthlink_internet', 'fiber_internet', 'five_g_internet'\n",
    "                      ,'fixed_wireless_internet', 'frontier_bundle', 'frontier_internet', 'general_bundle', 'general_internet', 'general_tv', 'hughesnet_internet', \n",
    "                      'ipbb_internet', 'optimum_bundle', 'optimum_internet', 'optimum_tv', 'satellite_internet', 'spectrum_bundle', 'spectrum_internet',\n",
    "                      'spectrum_tv', 'verizon_bundle', 'verizon_internet', 'viasat_internet', 'windstream_bundle', 'windstream_internet'    \n",
    "        \"\"\"\n",
    "    \n",
    "    prompt_template = ChatPromptTemplate.from_messages(\n",
    "        [(\"system\", system_template), few_shot_prompt, (\"user\", \"{text}\")]\n",
    "    )\n",
    "    \n",
    "    parser = StrOutputParser()\n",
    "    \n",
    "    query_chain = prompt_template | llm | parser\n",
    "\n",
    "    grouping = query_chain.invoke({\"text\":user_input})\n",
    "    return grouping\n"
   ]
  },
  {
   "cell_type": "code",
   "execution_count": 21,
   "id": "4deb875d-60ec-4b5b-a3b0-7775efd98e44",
   "metadata": {},
   "outputs": [],
   "source": [
    "classified_db = database_classifier(\"Tell me about Optimum internet deals\")"
   ]
  },
  {
   "cell_type": "code",
   "execution_count": 5,
   "id": "ac72e4b8-fe89-4427-af39-0929987d7e6f",
   "metadata": {},
   "outputs": [],
   "source": [
    "classified_db = 'optimum_internet'"
   ]
  },
  {
   "cell_type": "code",
   "execution_count": 7,
   "id": "f44f1a23-de4b-484f-8a7c-c9a0ef436bf2",
   "metadata": {},
   "outputs": [
    {
     "name": "stdout",
     "output_type": "stream",
     "text": [
      "load INSTRUCTOR_Transformer\n",
      "max_seq_length  512\n"
     ]
    }
   ],
   "source": [
    "instructor_embeddings = HuggingFaceInstructEmbeddings()\n",
    "vectorDB = FAISS.load_local((f'vector_stores\\\\{classified_db}'), instructor_embeddings, allow_dangerous_deserialization=True)"
   ]
  },
  {
   "cell_type": "code",
   "execution_count": 9,
   "id": "fdf79021-ace9-445b-8df4-e3282c596cf4",
   "metadata": {},
   "outputs": [
    {
     "name": "stderr",
     "output_type": "stream",
     "text": [
      "2024-10-11 21:23:40.421 WARNING streamlit.runtime.state.session_state_proxy: Session state does not function when running a script without `streamlit run`\n"
     ]
    }
   ],
   "source": [
    "if( (f'classified_db') not in st.session_state):\n",
    "        temp = FAISS.load_local((f'vector_stores\\\\{classified_db}'), instructor_embeddings, allow_dangerous_deserialization=True)\n",
    "        exec(f'st.session_state.{classified_db} = temp')"
   ]
  },
  {
   "cell_type": "code",
   "execution_count": null,
   "id": "6bc5481c-cfb5-4b56-92c4-91f4669e05d7",
   "metadata": {},
   "outputs": [],
   "source": [
    "        query_class = get_query_classified(original_question, st.session_state.bot_memory, st.session_state.user_session) # Have the bot recognize user intent from their query\n",
    "\n",
    "        #area query\n",
    "        if \"AREA\" in query_class:\n",
    "            results, st.session_state.bot_memory = get_sql_result(original_question, st.session_state.bot_memory, st.session_state.user_session)\n",
    "            if(\"FAQ\" in results): # If the answer cannot be sufficiently answered by the SQL bot, attempt to answer it with the PDF bot\n",
    "                results, st.session_state.bot_memory = get_general_result(original_question, st.session_state.bot_memory, st.session_state.user_session)\n",
    "\n",
    "        elif \"TRIPE\" in query_class: #Totally irrelevant question\n",
    "            results = \"I'm very sorry, but I can only answer questions about TV, Internet, and phone services, along with information about their providers. Thank you for understanding.\";\n",
    "\n",
    "        #faq query\n",
    "        else:\n",
    "            results, st.session_state.bot_memory = get_general_result(original_question, st.session_state.bot_memory, st.session_state.user_session)"
   ]
  }
 ],
 "metadata": {
  "kernelspec": {
   "display_name": "Python 3 (ipykernel)",
   "language": "python",
   "name": "python3"
  },
  "language_info": {
   "codemirror_mode": {
    "name": "ipython",
    "version": 3
   },
   "file_extension": ".py",
   "mimetype": "text/x-python",
   "name": "python",
   "nbconvert_exporter": "python",
   "pygments_lexer": "ipython3",
   "version": "3.12.4"
  }
 },
 "nbformat": 4,
 "nbformat_minor": 5
}
