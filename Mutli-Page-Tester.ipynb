{
 "cells": [
  {
   "cell_type": "code",
   "execution_count": 1,
   "id": "c8634aaa-2af6-459f-8b7b-26f02cee6071",
   "metadata": {},
   "outputs": [],
   "source": [
    "import streamlit as st\n",
    "import time\n",
    "from langchain_core.messages import HumanMessage, AIMessage\n",
    "from langchain_core.chat_history import BaseChatMessageHistory\n",
    "from langchain_google_genai import ChatGoogleGenerativeAI\n",
    "from langchain_community.chat_message_histories import ChatMessageHistory\n",
    "from langchain_core.prompts import ChatPromptTemplate, MessagesPlaceholder, FewShotChatMessagePromptTemplate\n",
    "from StickyAssistant import sticky_container\n",
    "from langchain.agents.agent_toolkits import create_retriever_tool\n",
    "from langchain_core.output_parsers import StrOutputParser\n",
    "from langchain_community.vectorstores import FAISS\n",
    "from langchain_community.embeddings import HuggingFaceInstructEmbeddings\n",
    "from dotenv import load_dotenv\n",
    "\n",
    "\n",
    "load_dotenv()\n",
    "llm = ChatGoogleGenerativeAI(model=\"gemini-1.5-flash-latest\",temperature = 0)\n"
   ]
  },
  {
   "cell_type": "code",
   "execution_count": 2,
   "id": "a00790bb-47d2-49c5-b80e-a04439788ffa",
   "metadata": {},
   "outputs": [],
   "source": [
    "# making a vector DB of all the different webpage names so only the relevant and existing db's are searched through:\n"
   ]
  },
  {
   "cell_type": "code",
   "execution_count": 21,
   "id": "4deb875d-60ec-4b5b-a3b0-7775efd98e44",
   "metadata": {},
   "outputs": [],
   "source": [
    "classified_db = database_classifier(\"Tell me about Optimum internet deals\")"
   ]
  },
  {
   "cell_type": "code",
   "execution_count": 5,
   "id": "ac72e4b8-fe89-4427-af39-0929987d7e6f",
   "metadata": {},
   "outputs": [],
   "source": [
    "classified_db = 'optimum_internet'"
   ]
  },
  {
   "cell_type": "code",
   "execution_count": 7,
   "id": "f44f1a23-de4b-484f-8a7c-c9a0ef436bf2",
   "metadata": {},
   "outputs": [
    {
     "name": "stdout",
     "output_type": "stream",
     "text": [
      "load INSTRUCTOR_Transformer\n",
      "max_seq_length  512\n"
     ]
    }
   ],
   "source": [
    "instructor_embeddings = HuggingFaceInstructEmbeddings()\n",
    "vectorDB = FAISS.load_local((f'vector_stores\\\\{classified_db}'), instructor_embeddings, allow_dangerous_deserialization=True)"
   ]
  },
  {
   "cell_type": "code",
   "execution_count": 9,
   "id": "fdf79021-ace9-445b-8df4-e3282c596cf4",
   "metadata": {},
   "outputs": [
    {
     "name": "stderr",
     "output_type": "stream",
     "text": [
      "2024-10-11 21:23:40.421 WARNING streamlit.runtime.state.session_state_proxy: Session state does not function when running a script without `streamlit run`\n"
     ]
    }
   ],
   "source": []
  },
  {
   "cell_type": "code",
   "execution_count": null,
   "id": "6bc5481c-cfb5-4b56-92c4-91f4669e05d7",
   "metadata": {},
   "outputs": [],
   "source": [
    "        query_class = get_query_classified(original_question, st.session_state.bot_memory, st.session_state.user_session) # Have the bot recognize user intent from their query\n",
    "\n",
    "        #area query\n",
    "        if \"AREA\" in query_class:\n",
    "            results, st.session_state.bot_memory = get_sql_result(original_question, st.session_state.bot_memory, st.session_state.user_session)\n",
    "            if(\"FAQ\" in results): # If the answer cannot be sufficiently answered by the SQL bot, attempt to answer it with the PDF bot\n",
    "                results, st.session_state.bot_memory = get_general_result(original_question, st.session_state.bot_memory, st.session_state.user_session)\n",
    "\n",
    "        elif \"TRIPE\" in query_class: #Totally irrelevant question\n",
    "            results = \"I'm very sorry, but I can only answer questions about TV, Internet, and phone services, along with information about their providers. Thank you for understanding.\";\n",
    "\n",
    "        #faq query\n",
    "        else:\n",
    "            results, st.session_state.bot_memory = get_general_result(original_question, st.session_state.bot_memory, st.session_state.user_session)"
   ]
  }
 ],
 "metadata": {
  "kernelspec": {
   "display_name": "Python 3 (ipykernel)",
   "language": "python",
   "name": "python3"
  },
  "language_info": {
   "codemirror_mode": {
    "name": "ipython",
    "version": 3
   },
   "file_extension": ".py",
   "mimetype": "text/x-python",
   "name": "python",
   "nbconvert_exporter": "python",
   "pygments_lexer": "ipython3",
   "version": "3.12.4"
  }
 },
 "nbformat": 4,
 "nbformat_minor": 5
}
